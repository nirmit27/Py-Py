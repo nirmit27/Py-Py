{
  "cells": [
    {
      "cell_type": "markdown",
      "metadata": {
        "colab_type": "text",
        "id": "view-in-github"
      },
      "source": [
        "<a href=\"https://colab.research.google.com/github/nirmit27/py-py/blob/master/Homework.ipynb\" target=\"_parent\"><img src=\"https://colab.research.google.com/assets/colab-badge.svg\" alt=\"Open In Colab\"/></a>"
      ]
    },
    {
      "attachments": {},
      "cell_type": "markdown",
      "metadata": {
        "id": "TRipfCxC9kAC"
      },
      "source": [
        "# **Question 1** \n",
        "### ***Solution*** **:**"
      ]
    },
    {
      "cell_type": "code",
      "execution_count": 1,
      "metadata": {
        "id": "26z68BHG9hMb"
      },
      "outputs": [
        {
          "ename": "ValueError",
          "evalue": "invalid literal for int() with base 10: ''",
          "output_type": "error",
          "traceback": [
            "\u001b[1;31m---------------------------------------------------------------------------\u001b[0m",
            "\u001b[1;31mValueError\u001b[0m                                Traceback (most recent call last)",
            "Cell \u001b[1;32mIn [1], line 50\u001b[0m\n\u001b[0;32m     46\u001b[0m             \u001b[39mbreak\u001b[39;00m\n\u001b[0;32m     49\u001b[0m \u001b[39m# Function call to enter the inventory menu\u001b[39;00m\n\u001b[1;32m---> 50\u001b[0m inventory()\n",
            "Cell \u001b[1;32mIn [1], line 12\u001b[0m, in \u001b[0;36minventory\u001b[1;34m()\u001b[0m\n\u001b[0;32m      8\u001b[0m \u001b[39mdef\u001b[39;00m \u001b[39minventory\u001b[39m():\n\u001b[0;32m      9\u001b[0m     \u001b[39mwhile\u001b[39;00m (\u001b[39m1\u001b[39m):\n\u001b[0;32m     10\u001b[0m \n\u001b[0;32m     11\u001b[0m         \u001b[39m# Displaying the menu to access the inventory\u001b[39;00m\n\u001b[1;32m---> 12\u001b[0m         option \u001b[39m=\u001b[39m \u001b[39mint\u001b[39;49m(\u001b[39minput\u001b[39;49m(\n\u001b[0;32m     13\u001b[0m             \u001b[39m\"\u001b[39;49m\u001b[39m\\n\u001b[39;49;00m\u001b[39m   SELECT MENU \u001b[39;49m\u001b[39m\\n\u001b[39;49;00m\u001b[39m1) Check Stock\u001b[39;49m\u001b[39m\\n\u001b[39;49;00m\u001b[39m2) Warehousing\u001b[39;49m\u001b[39m\\n\u001b[39;49;00m\u001b[39m3) Release\u001b[39;49m\u001b[39m\\n\u001b[39;49;00m\u001b[39m4) Exit : \u001b[39;49m\u001b[39m\\n\u001b[39;49;00m\u001b[39m\"\u001b[39;49m))\n\u001b[0;32m     15\u001b[0m         \u001b[39m# To check the stock of the entered item\u001b[39;00m\n\u001b[0;32m     16\u001b[0m         \u001b[39mif\u001b[39;00m (option \u001b[39m==\u001b[39m \u001b[39m1\u001b[39m):\n",
            "\u001b[1;31mValueError\u001b[0m: invalid literal for int() with base 10: ''"
          ]
        }
      ],
      "source": [
        "# Inventory as a dictionary\n",
        "items = {'Coffee': 7, 'Pen': 3, 'Paper cup': 2,\n",
        "         'Milk': 1, 'Coke': 4, 'Book': 5}\n",
        "\n",
        "# Function to carry out the list of operations on the inventory\n",
        "\n",
        "\n",
        "def inventory():\n",
        "    while (1):\n",
        "\n",
        "        # Displaying the menu to access the inventory\n",
        "        option = int(input(\n",
        "            \"\\n   SELECT MENU \\n1) Check Stock\\n2) Warehousing\\n3) Release\\n4) Exit : \\n\"))\n",
        "\n",
        "        # To check the stock of the entered item\n",
        "        if (option == 1):\n",
        "            choice = input(\"\\nEnter item : \")\n",
        "            if (choice not in items.keys()):\n",
        "                print(\"\\nItem not in stock!\")\n",
        "            else:\n",
        "                print(\"Stock : {}\".format(items.get(choice)))\n",
        "\n",
        "        # To add new stock to the existing inventory\n",
        "        elif (option == 2):\n",
        "            choice = list(\n",
        "                (input(\"\\n Enter item name and quantity : \")).split(' '))\n",
        "            items.update({choice[0]: choice[1]})\n",
        "\n",
        "        # To relase existing stock from the inventory\n",
        "        elif (option == 3):\n",
        "            choice = list((input(\"\\nEnter item name and quantity : \")).split(' '))\n",
        "            if (choice[0] not in items.keys()):\n",
        "                print(\"\\nItem not in stock!\")\n",
        "            else:\n",
        "                _qty = int(choice[1])\n",
        "                new_qty = items[choice[0]] - _qty\n",
        "                if (new_qty < 0):\n",
        "                    print(\"\\nItem is out of stock!\")\n",
        "                else:\n",
        "                    items[choice[0]] = new_qty\n",
        "                    print(\"\\nItem released successfully!\")\n",
        "\n",
        "        # To exit the inventory by terminating program execution\n",
        "        elif (option == 4):\n",
        "            print(\"\\nExiting Inventory ... \")\n",
        "            break\n",
        "\n",
        "\n",
        "# Function call to enter the inventory menu\n",
        "inventory()\n"
      ]
    },
    {
      "attachments": {},
      "cell_type": "markdown",
      "metadata": {
        "id": "wTWEhMCViWnX"
      },
      "source": [
        "# **Question 2** \n",
        "### ***Solution*** **:**\n",
        "\n"
      ]
    },
    {
      "cell_type": "code",
      "execution_count": null,
      "metadata": {
        "id": "QH5d7Ri6iytY"
      },
      "outputs": [],
      "source": [
        "itemslist = {'Coffee':7,'Pen':3,'Paper cup':2,'Milk':1,'Coke':4,'Book':5} \n",
        "\n",
        "def inventory():\n",
        "  while(1):\n",
        "    item = input(\"\\nEnter the name of the item : \")\n",
        "    if(item==\"0\"):\n",
        "      break;\n",
        "    elif(item not in itemslist.keys() and item!=\"0\"):\n",
        "      print(\"\\nItem not in stock!\")\n",
        "    else:\n",
        "      print(\"\\nStock : {}\".format(itemslist.get(item)))\n",
        "\n",
        "inventory()"
      ]
    },
    {
      "attachments": {},
      "cell_type": "markdown",
      "metadata": {
        "id": "b6XosWNBm693"
      },
      "source": [
        "# **Question 3** \n",
        "### ***Solution*** **:**"
      ]
    },
    {
      "cell_type": "code",
      "execution_count": null,
      "metadata": {
        "colab": {
          "base_uri": "https://localhost:8080/"
        },
        "id": "GLtNkxpNne7d",
        "outputId": "0c2b01cd-66ac-4463-bd75-551138edc94a"
      },
      "outputs": [],
      "source": [
        "person_dic = {'Last Name':'Mishra','First Name':'Nirmit','College Name':'BBD NIIT'}\n",
        "\n",
        "def myinfo():\n",
        "  for key,value in person_dic.items():\n",
        "    print(\"{}\\t:\\t{}\".format(key,value),end='\\n')\n",
        "\n",
        "myinfo()"
      ]
    }
  ],
  "metadata": {
    "colab": {
      "authorship_tag": "ABX9TyOpVXymVRLPHm+tXD9Bzpz7",
      "collapsed_sections": [
        "b6XosWNBm693"
      ],
      "include_colab_link": true,
      "provenance": []
    },
    "kernelspec": {
      "display_name": "Python 3",
      "language": "python",
      "name": "python3"
    },
    "language_info": {
      "codemirror_mode": {
        "name": "ipython",
        "version": 3
      },
      "file_extension": ".py",
      "mimetype": "text/x-python",
      "name": "python",
      "nbconvert_exporter": "python",
      "pygments_lexer": "ipython3",
      "version": "3.10.7"
    },
    "vscode": {
      "interpreter": {
        "hash": "54b5ffeb3effaa006ef19f360863a18c0e818e8a0da13a35cbece448ce12dd24"
      }
    }
  },
  "nbformat": 4,
  "nbformat_minor": 0
}
