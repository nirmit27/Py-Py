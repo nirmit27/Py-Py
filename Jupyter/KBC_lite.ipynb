{
 "cells": [
  {
   "cell_type": "markdown",
   "id": "f3df2b7e",
   "metadata": {},
   "source": [
    "# **Kaun Banega Crorepati (lite version)**"
   ]
  },
  {
   "cell_type": "code",
   "execution_count": null,
   "id": "16da8e95",
   "metadata": {},
   "outputs": [],
   "source": [
    "# Quiz data\n",
    "quiz = [\n",
    "        {\n",
    "            \"question\":\"\\tWhat type of language is Python?\",\n",
    "            \"options\":[\"Compiled\",\"Interpreted\",\"Machine\",\"None of the above\"],\n",
    "            \"correct\":2\n",
    "        },\n",
    "        {\n",
    "            \"question\":'''\\tWhat is the first name of the artist named \"The Weeknd\"?''',\n",
    "            \"options\":[\"Abel\",\"Jake\",\"Kevin\",\"Cody\"],\n",
    "            \"correct\":1\n",
    "        },\n",
    "        {\n",
    "            \"question\":\"\\tWhich country does Lionel Messi play for?\",\n",
    "            \"options\":[\"Spain\",\"Portugal\",\"Mexico\",\"Argentina\"],\n",
    "            \"correct\":4\n",
    "        },\n",
    "        {\n",
    "            \"question\":\"\\tWho invented the C language?\",\n",
    "            \"options\":[\"Guido van Rossum\",\"Dennis Ritchie\",\"James Gosling\",\"Brendan Eich\"],\n",
    "            \"correct\":2\n",
    "        },\n",
    "        {\n",
    "            \"question\":\"\\tWhich country won the first edition of the FIFA Men's World Cup?\",\n",
    "            \"options\":[\"France\",\"Spain\",\"Uruguay\",\"Brazil\"],\n",
    "            \"correct\":3\n",
    "        },\n",
    "        {\n",
    "            \"question\":\"\\tWhich nation hosted the 2006 FIFA Men's World Cup?\",\n",
    "            \"options\":[\"England\",\"Brazil\",\"Mexico\",\"Germany\"],\n",
    "            \"correct\":4\n",
    "        },\n",
    "        {\n",
    "            \"question\":\"\\tHow many characters does the ASCII Character set have?\",\n",
    "            \"options\":[1024, 256, 128, 64],\n",
    "            \"correct\":3\n",
    "        },\n",
    "        {\n",
    "            \"question\":\"\\tWhich option had the correct answer to question #1 of this quiz?\",\n",
    "            \"options\":[3,1,2,4],\n",
    "            \"correct\":3\n",
    "        },\n",
    "        {\n",
    "            \"question\":\"\\tHow many characters can a Gmail account password contain?\",\n",
    "            \"options\":[100, 64, 32, 127],\n",
    "            \"correct\":1\n",
    "        },{\n",
    "            \"question\":\"\\tWhat is the age difference in years between Cristiano Ronaldo and Lionel Messi?\",\n",
    "            \"options\":[2,3,4,0],\n",
    "            \"correct\":2\n",
    "        }\n",
    "       ]\n",
    "\n",
    "# Quiz logic\n",
    "score, reward, ctr = 0,5000,0\n",
    "print(\"\\n\\t\\tWelcome to KBC!\")\n",
    "for question in quiz: # question represents the dictionary i.e. each individual question\n",
    "    print(f\"\\n {question['question']}\")\n",
    "    for i, ch in enumerate(question['options']): # enumerating the list element of the dictionary i.e. displaying options\n",
    "        print(f\"\\n\\t[{i+1}]\\t{ch}\")\n",
    "    ans = int(input(\"\\n\\t Enter your choice : \"))\n",
    "    if ans==question['correct']:\n",
    "        score+=1\n",
    "        ctr+=1\n",
    "        reward*=1.5\n",
    "        print(\"\\n\\t Correct!\")\n",
    "    else:\n",
    "        print(\"\\n\\t Incorrect!\")\n",
    "        break\n",
    "\n",
    "print(f\"\\n\\t\\t You got {score} out of {len(quiz)} correct!\")\n",
    "if ctr==0:\n",
    "    pass\n",
    "elif ctr!=0:\n",
    "    print(f\"\\n\\t\\t You have won Rs.{int(reward)} !\")"
   ]
  }
 ],
 "metadata": {
  "kernelspec": {
   "display_name": "Python 3",
   "language": "python",
   "name": "python3"
  },
  "language_info": {
   "codemirror_mode": {
    "name": "ipython",
    "version": 3
   },
   "file_extension": ".py",
   "mimetype": "text/x-python",
   "name": "python",
   "nbconvert_exporter": "python",
   "pygments_lexer": "ipython3",
   "version": "3.10.7 (tags/v3.10.7:6cc6b13, Sep  5 2022, 14:08:36) [MSC v.1933 64 bit (AMD64)]"
  },
  "vscode": {
   "interpreter": {
    "hash": "54b5ffeb3effaa006ef19f360863a18c0e818e8a0da13a35cbece448ce12dd24"
   }
  }
 },
 "nbformat": 4,
 "nbformat_minor": 5
}
