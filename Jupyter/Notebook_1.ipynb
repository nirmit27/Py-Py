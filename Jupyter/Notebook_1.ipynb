{
  "cells": [
    {
      "cell_type": "markdown",
      "metadata": {
        "id": "yFKyNVB9pN7R"
      },
      "source": [
        "**Always Remember To Take A Break Dude!** 😉\n",
        "\n"
      ]
    },
    {
      "cell_type": "code",
      "execution_count": null,
      "metadata": {
        "id": "D0w13H2_pN7Y",
        "tags": []
      },
      "outputs": [],
      "source": [
        "import time\n",
        "import webbrowser\n",
        "\n",
        "breaks = 2\n",
        "n = int(input(\"Enter the number of hours in between two successive breaks: \"))\n",
        "\n",
        "for i in range(breaks):\n",
        "    time.sleep(n*60*60)\n",
        "    webbrowser.open('https://www.youtube.com/',new=2)"
      ]
    }
  ],
  "metadata": {
    "colab": {
      "include_colab_link": true,
      "provenance": []
    },
    "kernelspec": {
      "display_name": "Python 3.10.7 64-bit",
      "language": "python",
      "name": "python3"
    },
    "language_info": {
      "codemirror_mode": {
        "name": "ipython",
        "version": 3
      },
      "file_extension": ".py",
      "mimetype": "text/x-python",
      "name": "python",
      "nbconvert_exporter": "python",
      "pygments_lexer": "ipython3",
      "version": "3.10.7"
    },
    "orig_nbformat": 4,
    "vscode": {
      "interpreter": {
        "hash": "54b5ffeb3effaa006ef19f360863a18c0e818e8a0da13a35cbece448ce12dd24"
      }
    }
  },
  "nbformat": 4,
  "nbformat_minor": 0
}
