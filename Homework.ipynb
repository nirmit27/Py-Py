{
  "nbformat": 4,
  "nbformat_minor": 0,
  "metadata": {
    "colab": {
      "provenance": [],
      "collapsed_sections": [
        "b6XosWNBm693"
      ],
      "authorship_tag": "ABX9TyOpVXymVRLPHm+tXD9Bzpz7",
      "include_colab_link": true
    },
    "kernelspec": {
      "name": "python3",
      "display_name": "Python 3"
    },
    "language_info": {
      "name": "python"
    }
  },
  "cells": [
    {
      "cell_type": "markdown",
      "metadata": {
        "id": "view-in-github",
        "colab_type": "text"
      },
      "source": [
        "<a href=\"https://colab.research.google.com/github/nirmit27/py-py/blob/master/Homework.ipynb\" target=\"_parent\"><img src=\"https://colab.research.google.com/assets/colab-badge.svg\" alt=\"Open In Colab\"/></a>"
      ]
    },
    {
      "cell_type": "markdown",
      "source": [
        "# **Question 1** ***Solution*** **:**"
      ],
      "metadata": {
        "id": "TRipfCxC9kAC"
      }
    },
    {
      "cell_type": "code",
      "execution_count": null,
      "metadata": {
        "id": "26z68BHG9hMb"
      },
      "outputs": [],
      "source": [
        "# Inventory as a dictionary\n",
        "items = {'Coffee':7,'Pen':3,'Paper cup':2,'Milk':1,'Coke':4,'Book':5} \n",
        "\n",
        "# Function to carry out the list of operations on the inventory\n",
        "def inventory():\n",
        "  while(1):\n",
        "\n",
        "    # Displaying the menu to access the inventory\n",
        "    option = int(input(\"\\n   SELECT MENU \\n1) Check Stock\\n2) Warehousing\\n3) Release\\n4) Exit : \\n\"))\n",
        "\n",
        "    # To check the stock of the entered item\n",
        "    if(option==1):\n",
        "        choice = input(\"\\nEnter item : \")\n",
        "        if(choice not in items.keys()):\n",
        "          print(\"\\nItem not in stock!\")\n",
        "        else:\n",
        "          print(\"Stock : {}\".format(items.get(choice)))\n",
        "\n",
        "    # To add new stock to the existing inventory\n",
        "    elif(option==2):\n",
        "        choice = input(\"\\nEnter item : \")\n",
        "        qty = int(input(\"Enter quantity : \"))\n",
        "        items.update({choice : qty})\n",
        "\n",
        "    # To relase existing stock from the inventory\n",
        "    elif(option==3):\n",
        "        choice = input(\"\\nEnter item name : \")\n",
        "        if(choice not in items.keys()):\n",
        "          print(\"\\nItem not in stock!\")\n",
        "        else:\n",
        "          _qty = int(input(\"Enter item quantity : \"))\n",
        "          new_qty = items[choice] - _qty\n",
        "          if(new_qty<0):\n",
        "            print(\"\\nItem is out of stock!\")\n",
        "          else:\n",
        "            items[choice] = new_qty\n",
        "            print(\"\\nItem released successfully!\")\n",
        "\n",
        "    # To exit the inventory by terminating program execution\n",
        "    elif(option==4):\n",
        "        print(\"\\nExiting Inventory ... \")\n",
        "        break;\n",
        "\n",
        "# Function call to enter the inventory menu\n",
        "inventory()"
      ]
    },
    {
      "cell_type": "markdown",
      "source": [
        "# **Question 2** ***Solution*** **:**\n",
        "\n"
      ],
      "metadata": {
        "id": "wTWEhMCViWnX"
      }
    },
    {
      "cell_type": "code",
      "source": [
        "itemslist = {'Coffee':7,'Pen':3,'Paper cup':2,'Milk':1,'Coke':4,'Book':5} \n",
        "\n",
        "def inventory():\n",
        "  while(1):\n",
        "    item = input(\"\\nEnter the name of the item : \")\n",
        "    if(item not in itemslist.keys()):\n",
        "      print(\"\\nItem not in stock!\")\n",
        "      break;\n",
        "    else:\n",
        "      print(\"\\nStock : {}\".format(itemslist.get(item)))\n",
        "  exit()\n",
        "\n",
        "inventory()"
      ],
      "metadata": {
        "id": "QH5d7Ri6iytY"
      },
      "execution_count": null,
      "outputs": []
    },
    {
      "cell_type": "markdown",
      "source": [
        "#**Question 3** ***Solution*** **:**"
      ],
      "metadata": {
        "id": "b6XosWNBm693"
      }
    },
    {
      "cell_type": "code",
      "source": [
        "person_dic = {'Last Name':'Mishra','First Name':'Nirmit','College Name':'BBD NIIT'}\n",
        "\n",
        "def myinfo():\n",
        "  for key,value in person_dic.items():\n",
        "    print(\"{}\\t:\\t{}\".format(key,value),end='\\n')\n",
        "\n",
        "myinfo()"
      ],
      "metadata": {
        "colab": {
          "base_uri": "https://localhost:8080/"
        },
        "id": "GLtNkxpNne7d",
        "outputId": "0c2b01cd-66ac-4463-bd75-551138edc94a"
      },
      "execution_count": null,
      "outputs": [
        {
          "output_type": "stream",
          "name": "stdout",
          "text": [
            "Last Name\t:\tMishra\n",
            "First Name\t:\tNirmit\n",
            "College Name\t:\tBBD NIIT\n"
          ]
        }
      ]
    }
  ]
}