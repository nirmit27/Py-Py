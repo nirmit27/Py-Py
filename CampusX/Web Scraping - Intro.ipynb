{
 "cells": [
  {
   "cell_type": "markdown",
   "id": "944df155",
   "metadata": {},
   "source": [
    "# Web Scraping Demo\n",
    "> **Feb 2, 2024**"
   ]
  },
  {
   "cell_type": "code",
   "execution_count": 1,
   "id": "5fc1ad0a",
   "metadata": {},
   "outputs": [],
   "source": [
    "import re\n",
    "import time\n",
    "import pandas as pd\n",
    "import requests\n",
    "from bs4 import BeautifulSoup as bs"
   ]
  },
  {
   "cell_type": "markdown",
   "id": "4a70ae71",
   "metadata": {},
   "source": [
    "### For reponse code : _403_\n",
    "\n",
    "> Use the headers to make a successful request."
   ]
  },
  {
   "cell_type": "code",
   "execution_count": 8,
   "id": "d17419b7",
   "metadata": {},
   "outputs": [],
   "source": [
    "headers = {'User-Agent':'Mozilla/5.0 (Windows NT 6.3; Win 64 ; x64) Apple WebKit /537.36(KHTML , like Gecko) Chrome/80.0.3987.162 Safari/537.36'}\n",
    "rating_review_reg_ex = r'(\\d+\\.\\d+)|[\\d]+'\n",
    "\n",
    "webpage = requests.get(\n",
    "    'https://www.ambitionbox.com/list-of-companies?campaign=desktop_nav', headers=headers).text"
   ]
  },
  {
   "cell_type": "markdown",
   "id": "d9713ae2",
   "metadata": {},
   "source": [
    "### Parsing the webpage content"
   ]
  },
  {
   "cell_type": "code",
   "execution_count": 3,
   "id": "71c86c94",
   "metadata": {},
   "outputs": [],
   "source": [
    "soup = bs(webpage, 'lxml')"
   ]
  },
  {
   "cell_type": "markdown",
   "id": "9e84579a",
   "metadata": {},
   "source": [
    "### Using the _bs4_ object"
   ]
  },
  {
   "cell_type": "code",
   "execution_count": null,
   "id": "82581ac8",
   "metadata": {},
   "outputs": [],
   "source": [
    "# Pring the entire webpage content in plain HTML\n",
    "print(soup.prettify())"
   ]
  },
  {
   "cell_type": "markdown",
   "id": "0952c494",
   "metadata": {},
   "source": [
    " ## _Extracting web content_"
   ]
  },
  {
   "cell_type": "markdown",
   "id": "b0fff6a4",
   "metadata": {},
   "source": [
    "### Company **names**"
   ]
  },
  {
   "cell_type": "code",
   "execution_count": 29,
   "id": "a74a0912",
   "metadata": {},
   "outputs": [
    {
     "data": {
      "text/plain": [
       "['TCS',\n",
       " 'Accenture',\n",
       " 'Cognizant',\n",
       " 'Wipro',\n",
       " 'HDFC Bank',\n",
       " 'ICICI Bank',\n",
       " 'Infosys',\n",
       " 'Capgemini',\n",
       " 'HCLTech',\n",
       " 'Tech Mahindra',\n",
       " 'Genpact',\n",
       " 'Axis Bank',\n",
       " 'Teleperformance',\n",
       " 'Concentrix Corporation',\n",
       " 'Reliance Jio',\n",
       " 'Amazon',\n",
       " 'IBM',\n",
       " 'Larsen & Toubro Limited',\n",
       " 'Reliance Retail',\n",
       " 'HDB Financial Services']"
      ]
     },
     "execution_count": 29,
     "metadata": {},
     "output_type": "execute_result"
    }
   ],
   "source": [
    "names, names_query = [], []\n",
    "\n",
    "h2 = soup.find_all('h2')\n",
    "\n",
    "for name in h2:\n",
    "    name = name.text.strip()\n",
    "    names.append(name)\n",
    "\n",
    "    name = name.lower().replace(' ', '-')\n",
    "    names_query.append(name)\n",
    "    \n",
    "names = names[:-4]\n",
    "names_query = names_query[:-4]\n",
    "\n",
    "names"
   ]
  },
  {
   "cell_type": "markdown",
   "id": "1de9ff53",
   "metadata": {},
   "source": [
    "> Exceptional changes ..."
   ]
  },
  {
   "cell_type": "code",
   "execution_count": 21,
   "id": "ffc5e10a",
   "metadata": {},
   "outputs": [
    {
     "data": {
      "text/plain": [
       "['tcs',\n",
       " 'accenture',\n",
       " 'cognizant',\n",
       " 'wipro',\n",
       " 'hdfc-bank',\n",
       " 'icici-bank',\n",
       " 'infosys',\n",
       " 'capgemini',\n",
       " 'hcltech',\n",
       " 'tech-mahindra',\n",
       " 'genpact',\n",
       " 'axis-bank',\n",
       " 'teleperformance',\n",
       " 'concentrix-corporation',\n",
       " 'reliance-jio',\n",
       " 'amazon',\n",
       " 'ibm',\n",
       " 'l-and-t',\n",
       " 'reliance-retail',\n",
       " 'hdb-financial-services']"
      ]
     },
     "execution_count": 21,
     "metadata": {},
     "output_type": "execute_result"
    }
   ],
   "source": [
    "names_query[-3] = 'l-and-t'\n",
    "\n",
    "names_query"
   ]
  },
  {
   "cell_type": "markdown",
   "id": "43b0be56",
   "metadata": {},
   "source": [
    "### Class for representing **each company's data**"
   ]
  },
  {
   "cell_type": "code",
   "execution_count": 30,
   "id": "37f5549c",
   "metadata": {},
   "outputs": [],
   "source": [
    "class Company:\n",
    "\n",
    "    def __init__(self, name):\n",
    "        self.name = name\n",
    "        self.review = float()\n",
    "        self.rating = float()\n",
    "\n",
    "    def fetch_page(self, name):\n",
    "        url = f\"https://www.ambitionbox.com/overview/{name}-overview\"\n",
    "        res = requests.get(url, headers=headers)\n",
    "        return res\n",
    "\n",
    "    def fetch_details(self):\n",
    "        res = self.fetch_page(self.name)\n",
    "        if res.status_code == 200:\n",
    "            page = bs(res.text, 'lxml')\n",
    "\n",
    "            review = page.find('p', class_='newHInfo__rc')\n",
    "            rating = page.find('span', class_='newHInfo__rating')\n",
    "\n",
    "            if review is not None and rating is not None:\n",
    "                review = re.search(rating_review_reg_ex, review.text)\n",
    "                rating = re.search(rating_review_reg_ex, rating.text)\n",
    "\n",
    "                if review is not None and rating is not None:\n",
    "                    self.review =  float(review.group()) * 1000\n",
    "                    self.rating =  float(rating.group())\n",
    "                else:\n",
    "                    return\n",
    "            else:\n",
    "                return\n",
    "        else:\n",
    "            return\n",
    "        \n",
    "    def __str__(self) -> str:\n",
    "        self.fetch_details()\n",
    "        return f\"Name : {self.name}\\tRating : {self.rating}\\tNumber of reviews : {self.review}\""
   ]
  },
  {
   "cell_type": "markdown",
   "id": "e1729d03",
   "metadata": {},
   "source": [
    "### _**Company details**_\n",
    "\n",
    "> _Use some time delay in order to avoid getting your ip banned._"
   ]
  },
  {
   "cell_type": "code",
   "execution_count": 31,
   "id": "ca5ed463",
   "metadata": {},
   "outputs": [
    {
     "name": "stdout",
     "output_type": "stream",
     "text": [
      "Name : tcs\tRating : 3.8\tNumber of reviews : 72500.0\n",
      "Name : accenture\tRating : 4.0\tNumber of reviews : 45900.0\n",
      "Name : cognizant\tRating : 3.9\tNumber of reviews : 41300.0\n",
      "Name : wipro\tRating : 3.8\tNumber of reviews : 38600.0\n",
      "Name : hdfc-bank\tRating : 3.9\tNumber of reviews : 33600.0\n",
      "Name : icici-bank\tRating : 4.0\tNumber of reviews : 33300.0\n",
      "Name : infosys\tRating : 3.8\tNumber of reviews : 31500.0\n",
      "Name : capgemini\tRating : 3.8\tNumber of reviews : 29400.0\n",
      "Name : hcltech\tRating : 3.6\tNumber of reviews : 28200.0\n",
      "Name : tech-mahindra\tRating : 3.7\tNumber of reviews : 27400.0\n",
      "Name : genpact\tRating : 3.9\tNumber of reviews : 26000.0\n",
      "Name : axis-bank\tRating : 3.8\tNumber of reviews : 21900.0\n",
      "Name : teleperformance\tRating : 3.6\tNumber of reviews : 21700.0\n",
      "Name : concentrix-corporation\tRating : 3.9\tNumber of reviews : 21600.0\n",
      "Name : reliance-jio\tRating : 4.0\tNumber of reviews : 20400.0\n",
      "Name : amazon\tRating : 4.1\tNumber of reviews : 20200.0\n",
      "Name : ibm\tRating : 4.1\tNumber of reviews : 19600.0\n",
      "Name : larsen-&-toubro-limited\tRating : 0.0\tNumber of reviews : 0.0\n",
      "Name : reliance-retail\tRating : 3.9\tNumber of reviews : 18500.0\n",
      "Name : hdb-financial-services\tRating : 4.0\tNumber of reviews : 18000.0\n"
     ]
    }
   ],
   "source": [
    "companies = []\n",
    "\n",
    "for name in names_query:\n",
    "    c = Company(name)\n",
    "    c.fetch_details()\n",
    "    \n",
    "    companies.append(c)\n",
    "\n",
    "for company in companies:\n",
    "    print(company)"
   ]
  },
  {
   "cell_type": "markdown",
   "id": "163c33d4",
   "metadata": {},
   "source": [
    "#### _Replacing the names_"
   ]
  },
  {
   "cell_type": "code",
   "execution_count": 32,
   "id": "de7be4bf",
   "metadata": {},
   "outputs": [
    {
     "name": "stdout",
     "output_type": "stream",
     "text": [
      "Name : TCS\tRating : 3.7\tNumber of reviews : 72600.0\n",
      "Name : Accenture\tRating : 4.0\tNumber of reviews : 45900.0\n",
      "Name : Cognizant\tRating : 3.9\tNumber of reviews : 41300.0\n",
      "Name : Wipro\tRating : 3.7\tNumber of reviews : 38700.0\n",
      "Name : HDFC Bank\tRating : 3.8\tNumber of reviews : 33600.0\n",
      "Name : ICICI Bank\tRating : 4.0\tNumber of reviews : 33300.0\n",
      "Name : Infosys\tRating : 3.8\tNumber of reviews : 31500.0\n",
      "Name : Capgemini\tRating : 3.8\tNumber of reviews : 29500.0\n",
      "Name : HCLTech\tRating : 3.6\tNumber of reviews : 28200.0\n",
      "Name : Tech Mahindra\tRating : 3.6\tNumber of reviews : 27400.0\n",
      "Name : Genpact\tRating : 3.9\tNumber of reviews : 26000.0\n",
      "Name : Axis Bank\tRating : 3.8\tNumber of reviews : 21900.0\n",
      "Name : Teleperformance\tRating : 3.7\tNumber of reviews : 21700.0\n",
      "Name : Concentrix Corporation\tRating : 3.9\tNumber of reviews : 21600.0\n",
      "Name : Reliance Jio\tRating : 4.0\tNumber of reviews : 20400.0\n",
      "Name : Amazon\tRating : 4.0\tNumber of reviews : 20200.0\n",
      "Name : IBM\tRating : 4.1\tNumber of reviews : 19600.0\n",
      "Name : Larsen & Toubro Limited\tRating : 3.9\tNumber of reviews : 18600.0\n",
      "Name : Reliance Retail\tRating : 3.8\tNumber of reviews : 18500.0\n",
      "Name : HDB Financial Services\tRating : 4.0\tNumber of reviews : 18000.0\n"
     ]
    }
   ],
   "source": [
    "i = 0\n",
    "for company in companies:\n",
    "    company.name = names[i]\n",
    "    i+=1"
   ]
  },
  {
   "cell_type": "markdown",
   "id": "53a4faf9",
   "metadata": {},
   "source": [
    "### Company **card details**"
   ]
  },
  {
   "cell_type": "code",
   "execution_count": 14,
   "id": "41374cc9",
   "metadata": {},
   "outputs": [
    {
     "name": "stdout",
     "output_type": "stream",
     "text": [
      "TCS             Follow   3.7           IT Services & Consulting | 1 Lakh+ Employees | Public | 56 years old | Mumbai +339 more            Highly Rated For Job Security, Work Life Balance  Critically Rated For Promotions / Appraisal, Salary & Benefits, Work Satisfaction\n",
      "Accenture             Follow   4.0           IT Services & Consulting | 1 Lakh+ Employees | Public | 35 years old | Dublin +168 more            Highly Rated For Company Culture, Skill Development / Learning, Job Security  Critically Rated For Promotions / Appraisal\n",
      "Cognizant             Follow   3.9           IT Services & Consulting | 1 Lakh+ Employees | Forbes Global 2000 | 30 years old | Teaneck. New Jersey. +155 more             Critically Rated For Promotions / Appraisal\n",
      "Wipro             Follow   3.7           IT Services & Consulting | 1 Lakh+ Employees | Public | 79 years old | Bangalore/Bengaluru +274 more            Highly Rated For Job Security  Critically Rated For Promotions / Appraisal, Salary & Benefits\n",
      "HDFC Bank             Follow   3.8           Banking | 1 Lakh+ Employees | Public | 30 years old | Mumbai +1517 more            Highly Rated For Job Security, Skill Development / Learning  Critically Rated For Promotions / Appraisal\n",
      "ICICI Bank             Follow   4.0           Banking | 1 Lakh+ Employees | Public | 30 years old | Mumbai +1271 more            Highly Rated For Job Security, Skill Development / Learning, Company Culture\n",
      "Infosys             Follow   3.8           IT Services & Consulting | 1 Lakh+ Employees | Public | 43 years old | Bengaluru/Bangalore +174 more            Highly Rated For Job Security, Company Culture, Skill Development / Learning  Critically Rated For Promotions / Appraisal, Salary & Benefits\n",
      "Capgemini             Follow   3.8           IT Services & Consulting | 1 Lakh+ Employees | Public | 57 years old | Paris +129 more            Highly Rated For Job Security, Work Life Balance, Skill Development / Learning  Critically Rated For Promotions / Appraisal, Salary & Benefits\n",
      "HCLTech             Follow   3.6           IT Services & Consulting | 1 Lakh+ Employees | Public | 33 years old | Noida +179 more            Highly Rated For Job Security  Critically Rated For Promotions / Appraisal, Salary & Benefits, Work Satisfaction\n",
      "Tech Mahindra             Follow   3.6           IT Services & Consulting | 1 Lakh+ Employees | Public | 38 years old | Pune +261 more             Critically Rated For Promotions / Appraisal, Salary & Benefits, Work Satisfaction\n",
      "Genpact             Follow   3.9           IT Services & Consulting | 1 Lakh+ Employees | Public | 27 years old | New York +105 more            Highly Rated For Job Security, Skill Development / Learning, Work Life Balance  Critically Rated For Promotions / Appraisal, Salary & Benefits\n",
      "Axis Bank             Follow   3.8           Banking | 50k-1 Lakh Employees | Public | 31 years old | Mumbai +1290 more            Highly Rated For Job Security  Critically Rated For Promotions / Appraisal\n",
      "Teleperformance             Follow   3.7           BPO | 50k-1 Lakh Employees | Forbes Global 2000 | 46 years old | Paris +176 more             Critically Rated For Promotions / Appraisal, Salary & Benefits, Work Satisfaction\n",
      "Concentrix Corporation             Follow   3.9           BPO | 50k-1 Lakh Employees | Public | 41 years old | Fremont +111 more            Highly Rated For Job Security, Company Culture  Critically Rated For Promotions / Appraisal, Salary & Benefits\n",
      "Reliance Jio             Follow   4.0           Telecom | 50k-1 Lakh Employees | Public | 17 years old | Navi Mumbai +1167 more            Highly Rated For Job Security, Skill Development / Learning  Critically Rated For Promotions / Appraisal\n",
      "Amazon             Follow   4.0           Internet | 1 Lakh+ Employees | Public | 30 years old | Seattle +435 more            Highly Rated For Company Culture, Salary & Benefits  Critically Rated For Promotions / Appraisal\n",
      "IBM             Follow   4.1           IT Services & Consulting | 1 Lakh+ Employees | Public | 113 years old | Armonk +144 more            Highly Rated For Work Life Balance, Job Security, Skill Development / Learning  Critically Rated For Promotions / Appraisal\n",
      "Larsen & Toubro Limited             Follow   3.9           Engineering & Construction | 10k-50k Employees | Public | 86 years old | Mumbai +631 more            Highly Rated For Job Security, Skill Development / Learning  Critically Rated For Promotions / Appraisal, Work Life Balance\n",
      "Reliance Retail             Follow   3.8           Retail | 1 Lakh+ Employees | 18 years old | Navi Mumbai +986 more            Highly Rated For Skill Development / Learning  Critically Rated For Promotions / Appraisal\n",
      "HDB Financial Services             Follow   4.0           NBFC | 1 Lakh+ Employees | 17 years old | Ahmedabad +938 more            Highly Rated For Skill Development / Learning, Job Security, Company Culture  Critically Rated For Promotions / Appraisal\n",
      "\n",
      "Number of Companies = 20\n"
     ]
    }
   ],
   "source": [
    "company_cards = soup.find_all('div', class_='companyCardWrapper__companyDetails')\n",
    "\n",
    "company_cards_details = []\n",
    "\n",
    "for card in company_cards:\n",
    "    txt = card.text.strip().replace('\\n', ' ').replace('\\t', ' ')\n",
    "    company_cards_details.append(txt)\n",
    "    print(txt)\n",
    "\n",
    "print(f\"\\nNumber of Companies = {len(company_cards_details)}\")"
   ]
  },
  {
   "cell_type": "markdown",
   "id": "f02b2714",
   "metadata": {},
   "source": [
    "### Company **Data Collection**"
   ]
  },
  {
   "cell_type": "code",
   "execution_count": 34,
   "id": "e9ee1291",
   "metadata": {},
   "outputs": [
    {
     "data": {
      "text/plain": [
       "[72600.0,\n",
       " 45900.0,\n",
       " 41300.0,\n",
       " 38700.0,\n",
       " 33600.0,\n",
       " 33300.0,\n",
       " 31500.0,\n",
       " 29500.0,\n",
       " 28200.0,\n",
       " 27400.0,\n",
       " 26000.0,\n",
       " 21900.0,\n",
       " 21700.0,\n",
       " 21600.0,\n",
       " 20400.0,\n",
       " 20200.0,\n",
       " 19600.0,\n",
       " 18600.0,\n",
       " 18500.0,\n",
       " 18000.0]"
      ]
     },
     "execution_count": 34,
     "metadata": {},
     "output_type": "execute_result"
    }
   ],
   "source": [
    "ratings, reviews = [], []\n",
    "\n",
    "for c in companies:\n",
    "    ratings.append(c.rating)\n",
    "    reviews.append(c.review)\n"
   ]
  }
 ],
 "metadata": {
  "kernelspec": {
   "display_name": "Python 3 (ipykernel)",
   "language": "python",
   "name": "python3"
  },
  "language_info": {
   "codemirror_mode": {
    "name": "ipython",
    "version": 3
   },
   "file_extension": ".py",
   "mimetype": "text/x-python",
   "name": "python",
   "nbconvert_exporter": "python",
   "pygments_lexer": "ipython3",
   "version": "3.11.7"
  }
 },
 "nbformat": 4,
 "nbformat_minor": 5
}
