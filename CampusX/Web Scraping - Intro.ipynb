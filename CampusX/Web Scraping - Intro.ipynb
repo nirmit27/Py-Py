{
 "cells": [
  {
   "cell_type": "markdown",
   "id": "944df155",
   "metadata": {},
   "source": [
    "# Web Scraping Demo\n",
    "> **Feb 2, 2024**"
   ]
  },
  {
   "cell_type": "code",
   "execution_count": null,
   "id": "5fc1ad0a",
   "metadata": {},
   "outputs": [],
   "source": [
    "import re\n",
    "import pandas as pd\n",
    "import requests\n",
    "from bs4 import BeautifulSoup as bs"
   ]
  },
  {
   "cell_type": "markdown",
   "id": "4a70ae71",
   "metadata": {},
   "source": [
    "### For reponse code : _403_\n",
    "\n",
    "> Use the headers to make a successful request."
   ]
  },
  {
   "cell_type": "code",
   "execution_count": null,
   "id": "d17419b7",
   "metadata": {},
   "outputs": [],
   "source": [
    "headers = {'User-Agent':'Mozilla/5.0 (Windows NT 6.3; Win 64 ; x64) Apple WebKit /537.36(KHTML , like Gecko) Chrome/80.0.3987.162 Safari/537.36'}\n",
    "\n",
    "webpage = requests.get(\n",
    "    'https://www.ambitionbox.com/list-of-companies?campaign=desktop_nav', headers=headers).text"
   ]
  },
  {
   "cell_type": "markdown",
   "id": "d9713ae2",
   "metadata": {},
   "source": [
    "### Parsing the webpage content"
   ]
  },
  {
   "cell_type": "code",
   "execution_count": null,
   "id": "71c86c94",
   "metadata": {},
   "outputs": [],
   "source": [
    "soup = bs(webpage, 'lxml')"
   ]
  },
  {
   "cell_type": "markdown",
   "id": "9e84579a",
   "metadata": {},
   "source": [
    "### Using the _bs4_ object"
   ]
  },
  {
   "cell_type": "code",
   "execution_count": null,
   "id": "82581ac8",
   "metadata": {},
   "outputs": [],
   "source": [
    "# Pring the entire webpage content in plain HTML\n",
    "print(soup.prettify())"
   ]
  },
  {
   "cell_type": "markdown",
   "id": "0952c494",
   "metadata": {},
   "source": [
    " ## _Extracting web content_"
   ]
  },
  {
   "cell_type": "markdown",
   "id": "43b0be56",
   "metadata": {},
   "source": [
    "### Class for representing _each_ company's data"
   ]
  },
  {
   "cell_type": "code",
   "execution_count": null,
   "id": "37f5549c",
   "metadata": {},
   "outputs": [],
   "source": [
    "class Company:\n",
    "\n",
    "    def __init__(self, name):\n",
    "        self.name = name\n",
    "        self.review = float()\n",
    "\n",
    "    def fetch_page(self, name):\n",
    "        url = f\"https://www.ambitionbox.com/overview/{name}-overview\"\n",
    "        res = requests.get(url, headers=headers)\n",
    "        return res\n",
    "\n",
    "    def fetch_reviews(self, name):\n",
    "        res = self.fetch_page(name)\n",
    "        if res.status_code == 200:\n",
    "            page = bs(res.text, 'lxml')\n",
    "            data = page.find('p', class_='newHInfo__rc')\n",
    "\n",
    "            if data is not None:\n",
    "                data = re.search(r'(\\d+\\.\\d)', data.text)\n",
    "                if data is not None:\n",
    "                    return float(data.group()) * 1000\n",
    "                else:\n",
    "                    return\n",
    "            else:\n",
    "                return\n",
    "        else:\n",
    "            return"
   ]
  },
  {
   "cell_type": "markdown",
   "id": "304e208c",
   "metadata": {},
   "source": [
    "### Company **names**"
   ]
  },
  {
   "cell_type": "code",
   "execution_count": null,
   "id": "a74a0912",
   "metadata": {},
   "outputs": [],
   "source": [
    "names, names_query = [], []\n",
    "\n",
    "h2 = soup.find_all('h2')\n",
    "\n",
    "for name in h2:\n",
    "    name = name.text.strip()\n",
    "    names.append(name)\n",
    "\n",
    "    name = name.lower().replace(' ', '-')\n",
    "    names_query.append(name)\n",
    "    \n",
    "names = names[:-4]\n",
    "names_query = names_query[:-4]\n",
    "\n",
    "names_query"
   ]
  },
  {
   "cell_type": "markdown",
   "id": "53a4faf9",
   "metadata": {},
   "source": [
    "### Company **card details**"
   ]
  },
  {
   "cell_type": "code",
   "execution_count": null,
   "id": "41374cc9",
   "metadata": {},
   "outputs": [],
   "source": [
    "company_cards = soup.find_all('div', class_='companyCardWrapper__companyDetails')\n",
    "\n",
    "company_cards_details = []\n",
    "\n",
    "for card in company_cards:\n",
    "    txt = card.text.strip().replace('\\n', ' ').replace('\\t', ' ')\n",
    "    company_cards_details.append(txt)\n",
    "    print(txt)\n",
    "\n",
    "print(f\"\\nNumber of Companies = {len(company_cards_details)}\")"
   ]
  },
  {
   "cell_type": "markdown",
   "id": "66933333",
   "metadata": {},
   "source": [
    "### Company **ratings**"
   ]
  },
  {
   "cell_type": "code",
   "execution_count": null,
   "id": "b7ffa695",
   "metadata": {},
   "outputs": [],
   "source": [
    "ratings = []\n",
    "\n",
    "for detail in company_cards_details:\n",
    "    rating = re.search(r'(\\d+\\.\\d)', detail)\n",
    "    if rating != None:\n",
    "        ratings.append(rating.group())\n",
    "\n",
    "ratings"
   ]
  },
  {
   "cell_type": "markdown",
   "id": "e1729d03",
   "metadata": {},
   "source": [
    "#### _Company **page details**_"
   ]
  },
  {
   "cell_type": "code",
   "execution_count": 109,
   "id": "ca5ed463",
   "metadata": {},
   "outputs": [
    {
     "name": "stdout",
     "output_type": "stream",
     "text": [
      "72500.0\n",
      "45900.0\n",
      "41300.0\n",
      "38600.0\n",
      "33600.0\n",
      "33300.0\n",
      "31500.0\n",
      "29400.0\n",
      "28200.0\n",
      "27400.0\n"
     ]
    }
   ],
   "source": [
    "companies = []\n",
    "\n",
    "for name in names_query:\n",
    "    company = Company(name=name)\n",
    "    review = company.fetch_reviews(name)\n",
    "    if review is not None:\n",
    "        company.review = review\n",
    "        companies.append(company)\n",
    "    else:\n",
    "        break\n",
    "\n",
    "for company in companies:\n",
    "    print(company.review)"
   ]
  }
 ],
 "metadata": {
  "kernelspec": {
   "display_name": "Python 3 (ipykernel)",
   "language": "python",
   "name": "python3"
  },
  "language_info": {
   "codemirror_mode": {
    "name": "ipython",
    "version": 3
   },
   "file_extension": ".py",
   "mimetype": "text/x-python",
   "name": "python",
   "nbconvert_exporter": "python",
   "pygments_lexer": "ipython3",
   "version": "3.11.7"
  }
 },
 "nbformat": 4,
 "nbformat_minor": 5
}
