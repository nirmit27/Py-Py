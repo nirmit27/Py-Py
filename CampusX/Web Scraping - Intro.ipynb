{
 "cells": [
  {
   "cell_type": "markdown",
   "id": "944df155",
   "metadata": {},
   "source": [
    "# Web Scraping Demo\n",
    "> **Feb 2, 2024**"
   ]
  },
  {
   "cell_type": "code",
   "execution_count": null,
   "id": "5fc1ad0a",
   "metadata": {},
   "outputs": [],
   "source": [
    "import re\n",
    "import numpy as np\n",
    "\n",
    "import pandas as pd\n",
    "\n",
    "import requests\n",
    "\n",
    "import json\n",
    "\n",
    "from bs4 import BeautifulSoup as bs\n",
    "from sqlalchemy import create_engine as sqleng"
   ]
  },
  {
   "cell_type": "markdown",
   "id": "4a70ae71",
   "metadata": {},
   "source": [
    "### For reponse code : _403_\n",
    "\n",
    "> Use the headers to make a successful request."
   ]
  },
  {
   "cell_type": "code",
   "execution_count": null,
   "id": "d17419b7",
   "metadata": {},
   "outputs": [],
   "source": [
    "data = {}\n",
    "\n",
    "with open('utils.json') as f:\n",
    "    data = json.load(f)\n",
    "\n",
    "rating_review_reg_ex = r'(\\d+\\.\\d+)|[\\d]+'\n",
    "\n",
    "webpage = requests.get(\n",
    "    'https://www.ambitionbox.com/list-of-companies?campaign=desktop_nav', headers=data['headers']).text"
   ]
  },
  {
   "cell_type": "markdown",
   "id": "d9713ae2",
   "metadata": {},
   "source": [
    "### Parsing the webpage content"
   ]
  },
  {
   "cell_type": "code",
   "execution_count": null,
   "id": "71c86c94",
   "metadata": {},
   "outputs": [],
   "source": [
    "soup = bs(webpage, 'lxml')"
   ]
  },
  {
   "cell_type": "markdown",
   "id": "9e84579a",
   "metadata": {},
   "source": [
    "### Using the _bs4_ object"
   ]
  },
  {
   "cell_type": "code",
   "execution_count": null,
   "id": "82581ac8",
   "metadata": {},
   "outputs": [],
   "source": [
    "# Pring the entire webpage content in plain HTML\n",
    "print(soup.prettify())"
   ]
  },
  {
   "cell_type": "markdown",
   "id": "f301c9d1",
   "metadata": {},
   "source": [
    "> Utility function"
   ]
  },
  {
   "cell_type": "code",
   "execution_count": null,
   "id": "0417b508",
   "metadata": {},
   "outputs": [],
   "source": [
    "def show(items):\n",
    "    for item in items:\n",
    "        print(item)"
   ]
  },
  {
   "cell_type": "markdown",
   "id": "0952c494",
   "metadata": {},
   "source": [
    " ## _Extracting web content_"
   ]
  },
  {
   "cell_type": "markdown",
   "id": "b0fff6a4",
   "metadata": {},
   "source": [
    "### Company **names**"
   ]
  },
  {
   "cell_type": "code",
   "execution_count": null,
   "id": "a74a0912",
   "metadata": {},
   "outputs": [],
   "source": [
    "names, names_query = [], []\n",
    "\n",
    "h2 = soup.find_all('h2')\n",
    "\n",
    "for name in h2:\n",
    "    name = name.text.strip()\n",
    "    names.append(name)\n",
    "\n",
    "    name = name.lower().replace(' ', '-')\n",
    "    names_query.append(name)\n",
    "    \n",
    "names = names[:-4]\n",
    "names_query = names_query[:-4]\n",
    "\n",
    "names"
   ]
  },
  {
   "cell_type": "markdown",
   "id": "1de9ff53",
   "metadata": {},
   "source": [
    "> Exceptional changes ..."
   ]
  },
  {
   "cell_type": "code",
   "execution_count": null,
   "id": "ffc5e10a",
   "metadata": {},
   "outputs": [],
   "source": [
    "names_query[-3] = 'l-and-t'\n",
    "\n",
    "names_query"
   ]
  },
  {
   "cell_type": "markdown",
   "id": "43b0be56",
   "metadata": {},
   "source": [
    "### Class for representing **each company's data**"
   ]
  },
  {
   "cell_type": "code",
   "execution_count": null,
   "id": "37f5549c",
   "metadata": {},
   "outputs": [],
   "source": [
    "class Company:\n",
    "\n",
    "    def __init__(self, name):\n",
    "        self.name = name\n",
    "        self.review = float()\n",
    "        self.rating = float()\n",
    "        self.hq = ''\n",
    "        self.ownership = ''\n",
    "        self.founded_in = int()\n",
    "        self.global_emp_count = float()\n",
    "        self.india_emp_count = float()\n",
    "\n",
    "    def fetch_page(self, name):\n",
    "        url = f\"https://www.ambitionbox.com/overview/{name}-overview\"\n",
    "        res = requests.get(url, headers=data[\"headers\"])\n",
    "        return res\n",
    "\n",
    "    def fetch_details(self):\n",
    "        res = self.fetch_page(self.name)\n",
    "        if res.status_code == 200:\n",
    "            page = bs(res.text, 'lxml')\n",
    "\n",
    "            review = page.find('p', class_='newHInfo__rc')\n",
    "            rating = page.find('span', class_='newHInfo__rating')\n",
    "\n",
    "            if review is not None and rating is not None:\n",
    "                review = re.search(rating_review_reg_ex, review.text)\n",
    "                rating = re.search(rating_review_reg_ex, rating.text)\n",
    "\n",
    "                if review is not None and rating is not None:\n",
    "                    self.review =  float(review.group()) * 1000\n",
    "                    self.rating =  float(rating.group())\n",
    "                else:\n",
    "                    return\n",
    "            else:\n",
    "                return\n",
    "        else:\n",
    "            return\n",
    "        \n",
    "    def __str__(self) -> str:\n",
    "        self.fetch_details()\n",
    "        return f\"Name : {self.name}\\tRating : {self.rating}\\tNumber of reviews : {self.review}\\tHQ : {self.hq}\""
   ]
  },
  {
   "cell_type": "markdown",
   "id": "e1729d03",
   "metadata": {},
   "source": [
    "### _**Company details**_\n",
    "\n",
    "> _Use some time delay in order to avoid getting your ip banned._"
   ]
  },
  {
   "cell_type": "code",
   "execution_count": null,
   "id": "ca5ed463",
   "metadata": {},
   "outputs": [],
   "source": [
    "companies = []\n",
    "\n",
    "for name in names_query:\n",
    "    c = Company(name)\n",
    "    c.fetch_details()\n",
    "    \n",
    "    companies.append(c)"
   ]
  },
  {
   "cell_type": "markdown",
   "id": "163c33d4",
   "metadata": {},
   "source": [
    "#### _Replacing the names_"
   ]
  },
  {
   "cell_type": "code",
   "execution_count": null,
   "id": "de7be4bf",
   "metadata": {},
   "outputs": [],
   "source": [
    "i = 0\n",
    "for company in companies:\n",
    "    company.name = names[i]\n",
    "    i+=1"
   ]
  },
  {
   "cell_type": "markdown",
   "id": "53a4faf9",
   "metadata": {},
   "source": [
    "### Company **card details**"
   ]
  },
  {
   "cell_type": "code",
   "execution_count": null,
   "id": "41374cc9",
   "metadata": {},
   "outputs": [],
   "source": [
    "company_cards = soup.find_all('div', class_='companyCardWrapper__companyDetails')\n",
    "\n",
    "company_cards_details = []\n",
    "\n",
    "for card in company_cards:\n",
    "    txt = card.text.strip().replace('\\n', ' ').replace('\\t', ' ')\n",
    "    company_cards_details.append(txt)\n",
    "    print(txt)\n",
    "\n",
    "print(f\"\\nNumber of Companies = {len(company_cards_details)}\")"
   ]
  },
  {
   "cell_type": "markdown",
   "id": "770b79c6",
   "metadata": {},
   "source": [
    "### Company **Data Collection**"
   ]
  },
  {
   "cell_type": "code",
   "execution_count": null,
   "id": "53c828f4",
   "metadata": {},
   "outputs": [],
   "source": [
    "hq_data, founded_in_data, ownership, emp_count, ratings, reviews = [], [], [], [], [], []\n",
    "\n",
    "cities = {\n",
    "    'Bengaluru/Bangalore': 'Bangalore',\n",
    "    'Bangalore/Bengaluru': 'Bangalore',\n",
    "    'Teaneck.': 'New Jersey',\n",
    "    'New': 'New York',\n",
    "    'Navi': 'Navi Mumbai'\n",
    "}\n",
    "\n",
    "for cc in company_cards:\n",
    "    data = cc.find(\n",
    "        'span', class_=\"companyCardWrapper__interLinking\").text.strip().split('|')\n",
    "\n",
    "    hq_ = data[-1].split()[0]\n",
    "    fd_ = 2024 - int(data[-2].split()[0])\n",
    "    own_ = data[-3].strip()\n",
    "    emp_ = ' '.join(data[1].split()[:-1])\n",
    "\n",
    "    if hq_ in cities.keys():\n",
    "        hq_ = cities[hq_]\n",
    "\n",
    "    if own_.startswith('1') or own_.startswith('F'):\n",
    "        own_ = 'Private'\n",
    "\n",
    "    hq_data.append(hq_)\n",
    "    founded_in_data.append(fd_)\n",
    "    ownership.append(own_)\n",
    "    emp_count.append(emp_)\n",
    "\n",
    "\n",
    "for c in companies:\n",
    "    ratings.append(c.rating)\n",
    "    reviews.append(int(c.review))"
   ]
  },
  {
   "cell_type": "markdown",
   "id": "c1686b6f",
   "metadata": {},
   "source": [
    "### Making the **DataFrame**"
   ]
  },
  {
   "cell_type": "code",
   "execution_count": null,
   "id": "4f91b514",
   "metadata": {},
   "outputs": [],
   "source": [
    "df = pd.DataFrame({\n",
    "    'name': names,\n",
    "    'rating': ratings,\n",
    "    'no_of_reviews': reviews,\n",
    "    'hq': hq_data,\n",
    "    'founded_in': founded_in_data,\n",
    "    'ownership': ownership,\n",
    "    'employee_count': emp_count,\n",
    "})\n",
    "\n",
    "df.head()"
   ]
  },
  {
   "cell_type": "markdown",
   "id": "ddc61842",
   "metadata": {},
   "source": [
    "### SQL **Data Base**"
   ]
  },
  {
   "cell_type": "code",
   "execution_count": null,
   "id": "b2ef76da",
   "metadata": {},
   "outputs": [],
   "source": [
    "eng = sqleng(f\"{data['sql']}web_scrape\")\n",
    "\n",
    "rows = df.to_sql(\"df\", con=eng, if_exists='append')\n",
    "\n",
    "rows"
   ]
  }
 ],
 "metadata": {
  "kernelspec": {
   "display_name": "Python 3 (ipykernel)",
   "language": "python",
   "name": "python3"
  },
  "language_info": {
   "codemirror_mode": {
    "name": "ipython",
    "version": 3
   },
   "file_extension": ".py",
   "mimetype": "text/x-python",
   "name": "python",
   "nbconvert_exporter": "python",
   "pygments_lexer": "ipython3",
   "version": "3.11.7"
  }
 },
 "nbformat": 4,
 "nbformat_minor": 5
}
