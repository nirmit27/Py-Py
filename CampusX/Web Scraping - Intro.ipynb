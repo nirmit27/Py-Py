{
 "cells": [
  {
   "cell_type": "markdown",
   "id": "944df155",
   "metadata": {},
   "source": [
    "# Web Scraping Demo\n",
    "> **Feb 2, 2024**"
   ]
  },
  {
   "cell_type": "code",
   "execution_count": 1,
   "id": "5fc1ad0a",
   "metadata": {},
   "outputs": [],
   "source": [
    "import pandas as pd\n",
    "import requests\n",
    "from bs4 import BeautifulSoup as bs"
   ]
  },
  {
   "cell_type": "markdown",
   "id": "4a70ae71",
   "metadata": {},
   "source": [
    "### For reponse code : _403_\n",
    "\n",
    "> Use the headers to make a successful request."
   ]
  },
  {
   "cell_type": "code",
   "execution_count": 12,
   "id": "d17419b7",
   "metadata": {},
   "outputs": [],
   "source": [
    "headers = {'User-Agent':'Mozilla/5.0 (Windows NT 6.3; Win 64 ; x64) Apple WeKit /537.36(KHTML , like Gecko) Chrome/80.0.3987.162 Safari/537.36'}\n",
    "\n",
    "webpage = requests.get(\n",
    "    'https://www.ambitionbox.com/list-of-companies?campaign=desktop_nav', headers=headers).text"
   ]
  },
  {
   "cell_type": "markdown",
   "id": "d9713ae2",
   "metadata": {},
   "source": [
    "### Parsing the webpage content"
   ]
  },
  {
   "cell_type": "code",
   "execution_count": 13,
   "id": "71c86c94",
   "metadata": {},
   "outputs": [],
   "source": [
    "soup = bs(webpage, 'lxml')"
   ]
  },
  {
   "cell_type": "markdown",
   "id": "9e84579a",
   "metadata": {},
   "source": [
    "### Using the _bs4_ object"
   ]
  },
  {
   "cell_type": "code",
   "execution_count": 9,
   "id": "82581ac8",
   "metadata": {},
   "outputs": [],
   "source": [
    "# Pring the entire webpage content in plain HTML\n",
    "\n",
    "print(soup.prettify())"
   ]
  },
  {
   "cell_type": "markdown",
   "id": "0952c494",
   "metadata": {},
   "source": [
    " ## _Extracting web content_"
   ]
  },
  {
   "cell_type": "code",
   "execution_count": 14,
   "id": "a74a0912",
   "metadata": {},
   "outputs": [
    {
     "data": {
      "text/plain": [
       "['TCS',\n",
       " 'Accenture',\n",
       " 'Cognizant',\n",
       " 'Wipro',\n",
       " 'HDFC Bank',\n",
       " 'ICICI Bank',\n",
       " 'Infosys',\n",
       " 'Capgemini',\n",
       " 'HCLTech',\n",
       " 'Tech Mahindra',\n",
       " 'Genpact',\n",
       " 'Axis Bank',\n",
       " 'Teleperformance',\n",
       " 'Concentrix Corporation',\n",
       " 'Reliance Jio',\n",
       " 'Amazon',\n",
       " 'IBM',\n",
       " 'Larsen & Toubro Limited',\n",
       " 'Reliance Retail',\n",
       " 'HDB Financial Services',\n",
       " 'Companies by  Industry',\n",
       " 'Companies by  Locations',\n",
       " 'Companies by  Type',\n",
       " 'Companies by  Badges']"
      ]
     },
     "execution_count": 14,
     "metadata": {},
     "output_type": "execute_result"
    }
   ],
   "source": [
    "cleaned_h1 = soup.find_all('h1')[0].text.strip()\n",
    "\n",
    "h2_txt = []\n",
    "\n",
    "h2 = soup.find_all('h2')\n",
    "\n",
    "for x in h2:\n",
    "    h2_txt.append(x.text.strip())\n",
    "    \n",
    "# cleaned_h1\n",
    "h2_txt"
   ]
  },
  {
   "cell_type": "markdown",
   "id": "53a4faf9",
   "metadata": {},
   "source": [
    "### Company details"
   ]
  },
  {
   "cell_type": "code",
   "execution_count": 38,
   "id": "41374cc9",
   "metadata": {},
   "outputs": [
    {
     "name": "stdout",
     "output_type": "stream",
     "text": [
      "TCS             Follow   3.8           IT Services & Consulting | 1 Lakh+ Employees | Public | 56 years old | Mumbai +338 more            Highly Rated For Job Security, Work Life Balance  Critically Rated For Promotions / Appraisal, Salary & Benefits\n",
      "Accenture             Follow   4.0           IT Services & Consulting | 1 Lakh+ Employees | Public | 35 years old | Dublin +168 more            Highly Rated For Company Culture, Job Security, Skill Development / Learning\n",
      "Cognizant             Follow   3.9           IT Services & Consulting | 1 Lakh+ Employees | Forbes Global 2000 | 30 years old | Teaneck. New Jersey. +153 more            Highly Rated For Skill Development / Learning  Critically Rated For Promotions / Appraisal\n",
      "Wipro             Follow   3.8           IT Services & Consulting | 1 Lakh+ Employees | Public | 79 years old | Bangalore/Bengaluru +274 more            Highly Rated For Job Security  Critically Rated For Promotions / Appraisal, Salary & Benefits\n",
      "HDFC Bank             Follow   3.9           Banking | 1 Lakh+ Employees | Public | 30 years old | Mumbai +1516 more            Highly Rated For Job Security, Skill Development / Learning  Critically Rated For Promotions / Appraisal\n",
      "ICICI Bank             Follow   4.0           Banking | 1 Lakh+ Employees | Public | 30 years old | Mumbai +1270 more            Highly Rated For Job Security, Skill Development / Learning, Company Culture\n",
      "Infosys             Follow   3.8           IT Services & Consulting | 1 Lakh+ Employees | Public | 43 years old | Bengaluru/Bangalore +173 more            Highly Rated For Job Security, Company Culture, Skill Development / Learning  Critically Rated For Salary & Benefits, Promotions / Appraisal\n",
      "Capgemini             Follow   3.8           IT Services & Consulting | 1 Lakh+ Employees | Public | 57 years old | Paris +129 more            Highly Rated For Job Security, Work Life Balance, Skill Development / Learning  Critically Rated For Promotions / Appraisal, Salary & Benefits\n",
      "HCLTech             Follow   3.6           IT Services & Consulting | 1 Lakh+ Employees | Public | 33 years old | Noida +179 more            Highly Rated For Job Security  Critically Rated For Promotions / Appraisal, Salary & Benefits, Work Satisfaction\n",
      "Tech Mahindra             Follow   3.7           IT Services & Consulting | 1 Lakh+ Employees | Public | 38 years old | Pune +260 more             Critically Rated For Promotions / Appraisal, Salary & Benefits\n",
      "Genpact             Follow   3.9           IT Services & Consulting | 1 Lakh+ Employees | Public | 27 years old | New York +104 more            Highly Rated For Job Security, Skill Development / Learning, Work Life Balance  Critically Rated For Salary & Benefits, Promotions / Appraisal\n",
      "Axis Bank             Follow   3.8           Banking | 50k-1 Lakh Employees | Public | 31 years old | Mumbai +1290 more            Highly Rated For Job Security\n",
      "Teleperformance             Follow   3.6           BPO | 50k-1 Lakh Employees | Forbes Global 2000 | 46 years old | Paris +176 more             Critically Rated For Promotions / Appraisal, Salary & Benefits, Work Satisfaction\n",
      "Concentrix Corporation             Follow   3.9           BPO | 50k-1 Lakh Employees | Public | 41 years old | Fremont +111 more            Highly Rated For Job Security, Company Culture  Critically Rated For Promotions / Appraisal, Salary & Benefits\n",
      "Reliance Jio             Follow   4.0           Telecom | 50k-1 Lakh Employees | Public | 17 years old | Navi Mumbai +1166 more            Highly Rated For Job Security, Skill Development / Learning  Critically Rated For Promotions / Appraisal\n",
      "Amazon             Follow   4.1           Internet | 1 Lakh+ Employees | Public | 30 years old | Seattle +432 more            Highly Rated For Company Culture, Salary & Benefits, Work Life Balance\n",
      "IBM             Follow   4.1           IT Services & Consulting | 1 Lakh+ Employees | Public | 113 years old | Armonk +144 more            Highly Rated For Work Life Balance, Job Security, Skill Development / Learning  Critically Rated For Promotions / Appraisal\n",
      "Larsen & Toubro Limited             Follow   4.0           Engineering & Construction | 10k-50k Employees | Public | 86 years old | Mumbai +630 more            Highly Rated For Job Security, Skill Development / Learning\n",
      "Reliance Retail             Follow   3.9           Retail | 1 Lakh+ Employees | 18 years old | Navi Mumbai +984 more            Highly Rated For Skill Development / Learning, Job Security  Critically Rated For Promotions / Appraisal\n",
      "HDB Financial Services             Follow   4.0           NBFC | 1 Lakh+ Employees | 17 years old | Ahmedabad +938 more            Highly Rated For Skill Development / Learning, Job Security, Company Culture  Critically Rated For Promotions / Appraisal\n",
      "\n",
      "Number of Companies = 20\n"
     ]
    }
   ],
   "source": [
    "company_cards = soup.find_all('div', class_='companyCardWrapper__companyDetails')\n",
    "\n",
    "company_cards_details = []\n",
    "\n",
    "for card in company_cards:\n",
    "    txt = card.text.strip().replace('\\n', ' ').replace('\\t', ' ')\n",
    "    company_cards_details.append(txt)\n",
    "    print(txt)\n",
    "\n",
    "print(f\"\\nNumber of Companies = {len(company_cards_details)}\")"
   ]
  },
  {
   "cell_type": "code",
   "execution_count": null,
   "id": "b7ffa695",
   "metadata": {},
   "outputs": [],
   "source": [
    "#  TBD"
   ]
  }
 ],
 "metadata": {
  "kernelspec": {
   "display_name": "Python 3 (ipykernel)",
   "language": "python",
   "name": "python3"
  },
  "language_info": {
   "codemirror_mode": {
    "name": "ipython",
    "version": 3
   },
   "file_extension": ".py",
   "mimetype": "text/x-python",
   "name": "python",
   "nbconvert_exporter": "python",
   "pygments_lexer": "ipython3",
   "version": "3.11.7"
  }
 },
 "nbformat": 4,
 "nbformat_minor": 5
}
