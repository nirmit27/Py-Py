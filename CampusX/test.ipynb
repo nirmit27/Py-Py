{
 "cells": [
  {
   "cell_type": "code",
   "execution_count": 1,
   "metadata": {},
   "outputs": [],
   "source": [
    "import requests\n",
    "from bs4 import BeautifulSoup as bs\n",
    "import json"
   ]
  },
  {
   "cell_type": "code",
   "execution_count": 2,
   "metadata": {},
   "outputs": [
    {
     "data": {
      "text/plain": [
       "{'headers': {'User-Agent': 'Mozilla/5.0 (Windows NT 6.3; Win 64 ; x64) Apple WebKit /537.36(KHTML , like Gecko) Chrome/80.0.3987.162 Safari/537.36'},\n",
       " 'url': 'https://www.ambitionbox.com/list-of-companies?campaign=desktop_nav',\n",
       " 'about_url': 'https://www.ambitionbox.com/overview/{name}-overview'}"
      ]
     },
     "execution_count": 2,
     "metadata": {},
     "output_type": "execute_result"
    }
   ],
   "source": [
    "with open('utils.json', 'r') as f:\n",
    "    data = json.load(f)\n",
    "data"
   ]
  },
  {
   "cell_type": "code",
   "execution_count": 3,
   "metadata": {},
   "outputs": [],
   "source": [
    "res = requests.get(data['url'], headers=data['headers']).text\n",
    "soup = bs(res, 'lxml')"
   ]
  },
  {
   "cell_type": "code",
   "execution_count": 4,
   "metadata": {},
   "outputs": [
    {
     "data": {
      "text/plain": [
       "['tcs',\n",
       " 'accenture',\n",
       " 'cognizant',\n",
       " 'wipro',\n",
       " 'hdfc-bank',\n",
       " 'icici-bank',\n",
       " 'infosys',\n",
       " 'capgemini',\n",
       " 'hcltech',\n",
       " 'tech-mahindra',\n",
       " 'genpact',\n",
       " 'axis-bank',\n",
       " 'teleperformance',\n",
       " 'concentrix-corporation',\n",
       " 'jio',\n",
       " 'amazon',\n",
       " 'ibm',\n",
       " 'l-and-t',\n",
       " 'reliance-retail',\n",
       " 'hdb-financial-services']"
      ]
     },
     "execution_count": 4,
     "metadata": {},
     "output_type": "execute_result"
    }
   ],
   "source": [
    "names, names_query = [], []\n",
    "\n",
    "h2 = soup.find_all('h2')\n",
    "\n",
    "for name in h2:\n",
    "    name = name.text.strip()\n",
    "    names.append(name)\n",
    "\n",
    "    name = name.lower().replace(' ', '-')\n",
    "    names_query.append(name)\n",
    "\n",
    "names = names[:-4]\n",
    "names_query = names_query[:-4]\n",
    "\n",
    "names_query[-3] = 'l-and-t'\n",
    "\n",
    "names_query"
   ]
  },
  {
   "cell_type": "code",
   "execution_count": 5,
   "metadata": {},
   "outputs": [],
   "source": [
    "def fetch_about(n):\n",
    "    url = data['about_url'].replace('{name}', n)\n",
    "    abouts = requests.get(url=url, headers=data['headers']).text\n",
    "    abouts = bs(abouts, 'lxml')\n",
    "    about_items = abouts.find_all('li', class_=\"aboutItem\")\n",
    "    return about_items"
   ]
  },
  {
   "cell_type": "code",
   "execution_count": null,
   "metadata": {},
   "outputs": [],
   "source": [
    "founded_in, ownership, india_emp_count, global_emp_count, hq = [], [], [], [], []\n",
    "\n",
    "for name in names_query:\n",
    "\n",
    "    # founded_in.append(int(fetch_about(name)[0].find_all('p')[1].text.strip()[:4]))\n",
    "\n",
    "    # ownership.append(fetch_about(name)[1].find('a', class_=\"aboutItem__link\").text.strip())\n",
    "\n",
    "    # india_emp_count.append(fetch_about(name)[2].find_all('p')[1].text.strip())\n",
    "\n",
    "    # global_emp_count.append(fetch_about(name)[3].find_all('p')[1].text.strip())\n",
    "\n",
    "    hq.append(fetch_about(name)[4].find_all('a'))\n",
    "\n",
    "hq"
   ]
  }
 ],
 "metadata": {
  "kernelspec": {
   "display_name": "Python 3",
   "language": "python",
   "name": "python3"
  },
  "language_info": {
   "codemirror_mode": {
    "name": "ipython",
    "version": 3
   },
   "file_extension": ".py",
   "mimetype": "text/x-python",
   "name": "python",
   "nbconvert_exporter": "python",
   "pygments_lexer": "ipython3",
   "version": "3.11.7"
  }
 },
 "nbformat": 4,
 "nbformat_minor": 2
}
